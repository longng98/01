{
 "cells": [
  {
   "cell_type": "code",
   "execution_count": 1,
   "id": "87efc128-9ce9-45f4-bc66-22ced7897baa",
   "metadata": {},
   "outputs": [
    {
     "name": "stdout",
     "output_type": "stream",
     "text": [
      "Hello World\n"
     ]
    }
   ],
   "source": [
    "print('Hello World')"
   ]
  },
  {
   "cell_type": "code",
   "execution_count": 2,
   "id": "0cac2e09-41ad-486d-8a27-db212af67a51",
   "metadata": {},
   "outputs": [
    {
     "name": "stdout",
     "output_type": "stream",
     "text": [
      "Họ và tên: Nguyễn Thành Long\n",
      "Tuổi: 23\n"
     ]
    }
   ],
   "source": [
    "print('Họ và tên: Nguyễn Thành Long')\n",
    "print('Tuổi: 23')"
   ]
  },
  {
   "cell_type": "code",
   "execution_count": null,
   "id": "f85a02e9-8e5d-42bc-8fdd-fbae9e57ec23",
   "metadata": {},
   "outputs": [],
   "source": []
  }
 ],
 "metadata": {
  "kernelspec": {
   "display_name": "Python 3",
   "language": "python",
   "name": "python3"
  },
  "language_info": {
   "codemirror_mode": {
    "name": "ipython",
    "version": 3
   },
   "file_extension": ".py",
   "mimetype": "text/x-python",
   "name": "python",
   "nbconvert_exporter": "python",
   "pygments_lexer": "ipython3",
   "version": "3.8.8"
  }
 },
 "nbformat": 4,
 "nbformat_minor": 5
}
