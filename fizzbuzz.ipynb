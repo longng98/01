{
 "cells": [
  {
   "cell_type": "code",
   "execution_count": null,
   "id": "c2612ff8-1987-422c-b2d3-33ad5504c443",
   "metadata": {},
   "outputs": [],
   "source": [
    "def fizzbuzz():\n",
    "    start=int(input('so bat dau '))\n",
    "    end=int(input('so ket thuc '))\n",
    "    for i in range(start,end+1):\n",
    "        if i%3==0 and i%5==0:\n",
    "            print('fizz buzz')\n",
    "        elif i%5==0:\n",
    "            print('buzz')\n",
    "        elif i%3==0:\n",
    "            print('fizz')\n",
    "        else:\n",
    "            print(i)\n",
    "if __name__=='__main__':\n",
    "    fizzbuzz()"
   ]
  }
 ],
 "metadata": {
  "kernelspec": {
   "display_name": "Python 3",
   "language": "python",
   "name": "python3"
  },
  "language_info": {
   "codemirror_mode": {
    "name": "ipython",
    "version": 3
   },
   "file_extension": ".py",
   "mimetype": "text/x-python",
   "name": "python",
   "nbconvert_exporter": "python",
   "pygments_lexer": "ipython3",
   "version": "3.8.8"
  }
 },
 "nbformat": 4,
 "nbformat_minor": 5
}
